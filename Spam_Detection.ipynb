{
  "nbformat": 4,
  "nbformat_minor": 0,
  "metadata": {
    "colab": {
      "provenance": [],
      "authorship_tag": "ABX9TyMMLDSb5bFu3inOf4f/8cc7",
      "include_colab_link": true
    },
    "kernelspec": {
      "name": "python3",
      "display_name": "Python 3"
    },
    "language_info": {
      "name": "python"
    }
  },
  "cells": [
    {
      "cell_type": "markdown",
      "metadata": {
        "id": "view-in-github",
        "colab_type": "text"
      },
      "source": [
        "<a href=\"https://colab.research.google.com/github/Retured/YouTube/blob/main/Spam_Detection.ipynb\" target=\"_parent\"><img src=\"https://colab.research.google.com/assets/colab-badge.svg\" alt=\"Open In Colab\"/></a>"
      ]
    },
    {
      "cell_type": "code",
      "execution_count": 1,
      "metadata": {
        "colab": {
          "base_uri": "https://localhost:8080/"
        },
        "id": "3n3ue0Ubp0p9",
        "outputId": "90d22c5b-3a84-4a47-cb2a-c201d7c89775"
      },
      "outputs": [
        {
          "output_type": "stream",
          "name": "stdout",
          "text": [
            "Our Features (Independent Variables):\n",
            "   contains_free  num_exclamations  is_known_sender\n",
            "0              0                 1                0\n",
            "1              1                 9                1\n",
            "2              0                 1                0\n",
            "3              0                 9                1\n",
            "4              0                 3                0\n",
            "\n",
            "Our Target (Dependent Variable):\n",
            "0    0\n",
            "1    0\n",
            "2    0\n",
            "3    0\n",
            "4    0\n",
            "Name: is_spam, dtype: int64\n",
            "\n",
            "Model Accuracy: 100.00%\n"
          ]
        }
      ],
      "source": [
        "import pandas as pd\n",
        "from sklearn.model_selection import train_test_split\n",
        "from sklearn.tree import DecisionTreeClassifier\n",
        "from sklearn.metrics import accuracy_score\n",
        "\n",
        "# Load the dataset\n",
        "data = pd.read_csv('email_data.csv')\n",
        "\n",
        "# Let's assume the columns are: 'contains_free', 'num_exclamations', 'is_known_sender', 'is_spam'\n",
        "\n",
        "# 1. Separate the Independent and Dependent Variables\n",
        "# The independent variables (features) are everything except our target.\n",
        "independent_variables = ['contains_free', 'num_exclamations', 'is_known_sender']\n",
        "X = data[independent_variables] # In machine learning, features are often denoted by a capital 'X'\n",
        "\n",
        "# The dependent variable (target) is what we want to predict.\n",
        "dependent_variable = 'is_spam'\n",
        "y = data[dependent_variable] # The target is often denoted by a lowercase 'y'\n",
        "\n",
        "print(\"Our Features (Independent Variables):\")\n",
        "print(X.head())\n",
        "print(\"\\nOur Target (Dependent Variable):\")\n",
        "print(y.head())\n",
        "\n",
        "# 2. Split the data for training and testing\n",
        "# We train the model on one part of the data and test its performance on another.\n",
        "X_train, X_test, y_train, y_test = train_test_split(X, y, test_size=0.3, random_state=42)\n",
        "\n",
        "# 3. Choose and train a model\n",
        "# We'll use a simple Decision Tree model.\n",
        "model = DecisionTreeClassifier()\n",
        "model.fit(X_train, y_train) # The model 'learns' the relationship between X_train and y_train\n",
        "\n",
        "# 4. Make predictions on new, unseen data\n",
        "predictions = model.predict(X_test)\n",
        "\n",
        "# 5. Evaluate the model\n",
        "# How well did our model do? We compare its predictions to the actual answers (y_test).\n",
        "accuracy = accuracy_score(y_test, predictions)\n",
        "print(f\"\\nModel Accuracy: {accuracy * 100:.2f}%\")"
      ]
    }
  ]
}